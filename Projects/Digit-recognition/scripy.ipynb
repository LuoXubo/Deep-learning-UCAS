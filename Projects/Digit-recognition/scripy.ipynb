{
 "cells": [
  {
   "cell_type": "code",
   "execution_count": null,
   "metadata": {},
   "outputs": [],
   "source": [
    "\"\"\"\n",
    "@Description :   Digit recognition\n",
    "@Author      :   Xubo Luo \n",
    "@Time        :   2024/04/04 12:41:38\n",
    "\"\"\""
   ]
  },
  {
   "attachments": {},
   "cell_type": "markdown",
   "metadata": {},
   "source": [
    "# 导入必要库"
   ]
  },
  {
   "cell_type": "code",
   "execution_count": null,
   "metadata": {},
   "outputs": [],
   "source": [
    "import numpy as np\n",
    "import pandas as pd\n",
    "import tensorflow as tf\n",
    "import matplotlib.pyplot as plt\n",
    "from sklearn.model_selection import train_test_split"
   ]
  },
  {
   "attachments": {},
   "cell_type": "markdown",
   "metadata": {},
   "source": [
    "# 准备数据"
   ]
  },
  {
   "cell_type": "code",
   "execution_count": null,
   "metadata": {},
   "outputs": [],
   "source": [
    "# Import the competition data\n",
    "train_data = pd.read_csv('../input/digit-recognizer/train.csv')\n",
    "test_data = pd.read_csv('../input/digit-recognizer/test.csv')\n",
    "\n",
    "print(train_data.shape)\n",
    "print(test_data.shape)\n",
    "\n",
    "# Display rows and columns\n",
    "train_data.head(10)"
   ]
  },
  {
   "cell_type": "code",
   "execution_count": null,
   "metadata": {},
   "outputs": [],
   "source": [
    "# Drop labels\n",
    "y = train_data['label']\n",
    "train_data.drop(\"label\", inplace=True, axis=\"columns\")"
   ]
  },
  {
   "cell_type": "code",
   "execution_count": null,
   "metadata": {},
   "outputs": [],
   "source": [
    "# Plot the first five digits along with the matrix conversion\n",
    "sample1 = np.reshape(train_data.iloc[2, :].values, (28, 28))\n",
    "plt.imshow(sample1)\n",
    "plt.show()\n",
    "\n",
    "sample2 = np.reshape(train_data.iloc[3, :].values, (28, 28))\n",
    "plt.imshow(sample2)\n",
    "plt.show()\n",
    "\n",
    "sample3 = np.reshape(train_data.iloc[4, :].values, (28, 28))\n",
    "plt.imshow(sample3)\n",
    "plt.show()\n",
    "\n",
    "sample4 = np.reshape(train_data.iloc[5, :].values, (28, 28))\n",
    "plt.imshow(sample4)\n",
    "plt.show()\n",
    "\n",
    "sample5 = np.reshape(train_data.iloc[6, :].values, (28, 28))\n",
    "plt.imshow(sample5)\n",
    "plt.show()"
   ]
  },
  {
   "cell_type": "code",
   "execution_count": null,
   "metadata": {},
   "outputs": [],
   "source": [
    "X = train_data.values.reshape((len(train_data), 28, 28))\n",
    "X_test = test_data.values.reshape((len(test_data), 28, 28))\n",
    "\n",
    "X = X / 255.0\n",
    "X_test = X_test / 255.0\n",
    "\n",
    "X = np.expand_dims(X, axis=-1)\n",
    "X_test = np.expand_dims(X_test, axis=-1)\n",
    "\n",
    "X_train, X_val, y_train, y_val = train_test_split(X, y, train_size=0.8, random_state=42)\n",
    "\n",
    "print(f\"No of data train: {X_train.shape[0]}\")\n",
    "print(f\"No of data val: {X_val.shape[0]}\")\n",
    "print(f\"No of data test: {X_test.shape[0]}\")"
   ]
  },
  {
   "cell_type": "code",
   "execution_count": null,
   "metadata": {},
   "outputs": [],
   "source": [
    "def build_model(input_shape=(28, 28, 1)):\n",
    "    model = tf.keras.Sequential(\n",
    "            layers=[tf.keras.layers.Input(shape=input_shape),\n",
    "                    tf.keras.layers.Conv2D(32, 3, activation='relu', data_format=\"channels_last\"),\n",
    "                    tf.keras.layers.Conv2D(32, 3, activation='relu', data_format=\"channels_last\"),\n",
    "                    tf.keras.layers.MaxPooling2D(),\n",
    "                    tf.keras.layers.Dropout(0.25),\n",
    "                    tf.keras.layers.Conv2D(32, 3, activation='relu', data_format=\"channels_last\"),\n",
    "                    tf.keras.layers.Conv2D(32, 3, activation='relu', data_format=\"channels_last\"),\n",
    "                    tf.keras.layers.MaxPooling2D(),\n",
    "                    tf.keras.layers.Dropout(0.25),\n",
    "                    tf.keras.layers.Flatten(),\n",
    "                    tf.keras.layers.Dense(32, activation='relu'),\n",
    "                    tf.keras.layers.Dense(64, activation='relu'),\n",
    "                    tf.keras.layers.Dropout(0.25),\n",
    "                    tf.keras.layers.Dense(128, activation='relu'),\n",
    "                    tf.keras.layers.Dense(10, activation='softmax'),\n",
    "                   ]\n",
    "            )\n",
    "    \n",
    "    model.build()\n",
    "    model.summary()\n",
    "    \n",
    "    return model"
   ]
  },
  {
   "cell_type": "code",
   "execution_count": null,
   "metadata": {},
   "outputs": [],
   "source": [
    "model = build_model()\n",
    "\n",
    "model.compile(optimizer=tf.keras.optimizers.Adam(),\n",
    "              loss=\"sparse_categorical_crossentropy\",\n",
    "              metrics=[\"acc\"])\n",
    "\n",
    "callbacks = tf.keras.callbacks.ReduceLROnPlateau(monitor=\"val_acc\",\n",
    "                                                 factor=0.5,\n",
    "                                                 patience=5,\n",
    "                                                 min_lr=1e-3)\n",
    "\n",
    "hist = model.fit(X_train, y_train, validation_data = (X_val, y_val),\n",
    "                 epochs=20,\n",
    "                 callbacks=[callbacks])"
   ]
  },
  {
   "cell_type": "code",
   "execution_count": null,
   "metadata": {},
   "outputs": [],
   "source": [
    "pred = model.predict(X_test)\n",
    "res = np.argmax(pred, axis=1)"
   ]
  },
  {
   "cell_type": "code",
   "execution_count": null,
   "metadata": {},
   "outputs": [],
   "source": [
    "results = pd.Series(res, name=\"Label\")\n",
    "submission = pd.concat([pd.Series(range(1, X_test.shape[0] + 1), name=\"ImageId\"), results], axis=1)\n",
    "submission.to_csv(\"submission.csv\", index=False)\n",
    "print(\"Successfully saved as CSV file\")"
   ]
  }
 ],
 "metadata": {
  "language_info": {
   "name": "python"
  },
  "orig_nbformat": 4
 },
 "nbformat": 4,
 "nbformat_minor": 2
}
