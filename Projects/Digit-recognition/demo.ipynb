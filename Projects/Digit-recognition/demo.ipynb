{
 "cells": [
  {
   "cell_type": "code",
   "execution_count": 1,
   "metadata": {},
   "outputs": [
    {
     "data": {
      "text/plain": [
       "'\\n@Description :   Digit recognition\\n@Author      :   Xubo Luo \\n@Time        :   2024/04/04 12:41:38\\n'"
      ]
     },
     "execution_count": 1,
     "metadata": {},
     "output_type": "execute_result"
    }
   ],
   "source": [
    "\"\"\"\n",
    "@Description :   Digit recognition\n",
    "@Author      :   Xubo Luo \n",
    "@Time        :   2024/04/04 12:41:38\n",
    "\"\"\""
   ]
  },
  {
   "attachments": {},
   "cell_type": "markdown",
   "metadata": {},
   "source": [
    "# 导入必要库"
   ]
  },
  {
   "cell_type": "code",
   "execution_count": 1,
   "metadata": {},
   "outputs": [],
   "source": [
    "import torch\n",
    "import torchvision\n",
    "import torch.nn as nn\n",
    "import torch.nn.functional as F\n",
    "import torch.optim as optim\n",
    "import matplotlib.pyplot as plt\n",
    "import argparse\n",
    "from net import *\n",
    "from utils.dataloader import LoadData"
   ]
  },
  {
   "attachments": {},
   "cell_type": "markdown",
   "metadata": {},
   "source": [
    "# 准备数据"
   ]
  },
  {
   "cell_type": "code",
   "execution_count": 2,
   "metadata": {},
   "outputs": [
    {
     "data": {
      "image/png": "[encoded data removed]",
      "text/plain": [
       "<Figure size 640x480 with 6 Axes>"
      ]
     },
     "metadata": {},
     "output_type": "display_data"
    }
   ],
   "source": [
    "data_path = '../../Dataset/mnist'\n",
    "batch_size_train = 64\n",
    "batch_size_test = 1000\n",
    "n_epochs = 10\n",
    "\n",
    "train_loader, test_loader = LoadData(data_path, batch_size_train, batch_size_test)\n",
    "examples = enumerate(test_loader)\n",
    "batch_idx, (example_data, example_targets) = next(examples)\n",
    "test_counter = [i * len(train_loader.dataset) for i in range(n_epochs + 1)]\n",
    "\n",
    "# Example data\n",
    "fig = plt.figure()\n",
    "for i in range(6):\n",
    "    plt.subplot(2, 3, i + 1)\n",
    "    plt.tight_layout()\n",
    "    plt.imshow(example_data[i][0], cmap='gray', interpolation='none')\n",
    "    plt.title(\"Ground Truth: {}\".format(example_targets[i]))\n",
    "    plt.xticks([])\n",
    "    plt.yticks([])\n"
   ]
  },
  {
   "cell_type": "markdown",
   "metadata": {},
   "source": [
    "# 定义模型"
   ]
  },
  {
   "cell_type": "code",
   "execution_count": 5,
   "metadata": {},
   "outputs": [],
   "source": [
    "# Vanilla CNN\n",
    "vanilla_cnn_model = Vanilla_CNN()\n",
    "network_state_dict = torch.load('./caches/vanilla_cnn_model.pth')\n",
    "vanilla_cnn_model.load_state_dict(network_state_dict)\n",
    "\n",
    "# Residual CNN\n",
    "residual_cnn_model = ResCNN()\n",
    "network_state_dict = torch.load('./caches/res_cnn_model.pth')\n",
    "residual_cnn_model.load_state_dict(network_state_dict)\n",
    "\n",
    "# Vision Transformer\n",
    "transformer_model = Vanilla_Transformer(1, 64, 6, 4, 2, 28, 4, 10)\n",
    "network_state_dict = torch.load('./caches/vanilla_transformer_model.pth')\n",
    "transformer_model.load_state_dict(network_state_dict)\n",
    "\n",
    "def test(network):\n",
    "    network.eval()\n",
    "    test_loss = 0\n",
    "    correct = 0\n",
    "    with torch.no_grad():\n",
    "        for data, target in test_loader:\n",
    "            output = network(data)\n",
    "            output = output.to('cpu')\n",
    "            test_loss += F.nll_loss(output, target, reduction='sum').item()\n",
    "            pred = output.data.max(1, keepdim=True)[1]\n",
    "            correct += pred.eq(target.data.view_as(pred)).sum()\n",
    "    test_loss /= len(test_loader.dataset)\n",
    "    print('\\nTest set: Avg. loss: {:.4f}, Accuracy: {}/{} ({:.0f}%)\\n'.format(\n",
    "        test_loss, correct, len(test_loader.dataset),\n",
    "        100. * correct / len(test_loader.dataset)))"
   ]
  },
  {
   "cell_type": "code",
   "execution_count": 7,
   "metadata": {},
   "outputs": [
    {
     "name": "stdout",
     "output_type": "stream",
     "text": [
      "Vanilla CNN\n",
      "\n",
      "Test set: Avg. loss: 0.0350, Accuracy: 9893/10000 (99%)\n",
      "\n",
      "---------------------------------\n",
      "Residual CNN\n",
      "\n",
      "Test set: Avg. loss: 0.0278, Accuracy: 9930/10000 (99%)\n",
      "\n",
      "---------------------------------\n",
      "Vision Transformer\n",
      "\n",
      "Test set: Avg. loss: 0.0814, Accuracy: 9741/10000 (97%)\n",
      "\n",
      "---------------------------------\n"
     ]
    }
   ],
   "source": [
    "print('Vanilla CNN')\n",
    "test(vanilla_cnn_model)\n",
    "print('---------------------------------')\n",
    "\n",
    "print('Residual CNN')\n",
    "test(residual_cnn_model)\n",
    "print('---------------------------------')\n",
    "\n",
    "print('Vision Transformer')\n",
    "test(transformer_model)\n",
    "print('---------------------------------')"
   ]
  }
 ],
 "metadata": {
  "kernelspec": {
   "display_name": "mmseg",
   "language": "python",
   "name": "python3"
  },
  "language_info": {
   "codemirror_mode": {
    "name": "ipython",
    "version": 3
   },
   "file_extension": ".py",
   "mimetype": "text/x-python",
   "name": "python",
   "nbconvert_exporter": "python",
   "pygments_lexer": "ipython3",
   "version": "3.8.18"
  },
  "orig_nbformat": 4
 },
 "nbformat": 4,
 "nbformat_minor": 2
}
