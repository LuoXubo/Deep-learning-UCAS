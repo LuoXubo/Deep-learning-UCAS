{
 "cells": [
  {
   "cell_type": "code",
   "execution_count": null,
   "metadata": {},
   "outputs": [],
   "source": [
    "\"\"\"\n",
    "@Description :   \n",
    "@Author      :   Xubo Luo \n",
    "@Time        :   2024/06/16 20:32:35\n",
    "\"\"\"\n"
   ]
  },
  {
   "cell_type": "code",
   "execution_count": 6,
   "metadata": {
    "metadata": {}
   },
   "outputs": [
    {
     "name": "stdout",
     "output_type": "stream",
     "text": [
      "0.4153509237206396\n",
      "0.4153509237206396\n"
     ]
    }
   ],
   "source": [
    "import math\n",
    "from nltk.translate.bleu_score import sentence_bleu\n",
    "\n",
    "log_avg = (math.log(9 / 9) + math.log(5 / 8) + math.log(2 / 7) + math.log(1 / 6)) / 4\n",
    "bp = 1  # l_pred == l_true  bp=1\n",
    "print(math.exp(log_avg))  # 0.41535092372063953\n",
    "\n",
    "r = sentence_bleu(\n",
    "    references=[list('这花儿开的真美丽啊'), list('这花开的真美丽啊')],\n",
    "    hypothesis=list('这开的花儿真美丽啊'),\n",
    ")\n",
    "print(r)  # 0.41535092372063953"
   ]
  },
  {
   "cell_type": "code",
   "execution_count": 4,
   "metadata": {
    "metadata": {}
   },
   "outputs": [
    {
     "name": "stdout",
     "output_type": "stream",
     "text": [
      "[['这', '花', '儿', '开', '的', '真', '美', '丽', '啊']]\n",
      "['这', '开', '的', '花', '儿', '真', '美', '丽', '啊']\n"
     ]
    }
   ],
   "source": [
    "print([list('这花儿开的真美丽啊')])\n",
    "print(list('这开的花儿真美丽啊'))"
   ]
  },
  {
   "cell_type": "code",
   "execution_count": 1,
   "metadata": {},
   "outputs": [],
   "source": [
    "ch_file = 'tgt.txt'\n",
    "en_file = 'src.txt'\n",
    "\n",
    "with open(ch_file, 'r', encoding='utf-8') as f:\n",
    "    ch_lines = f.readlines()\n",
    "with open(en_file, 'r', encoding='utf-8') as f:\n",
    "    en_lines = f.readlines()\n",
    "\n",
    "with open('ch_en.txt', 'w', encoding='utf-8') as f:\n",
    "    for ch, en in zip(ch_lines, en_lines):\n",
    "        if en.strip().endswith(' '):\n",
    "            en = en.strip()[:-1]\n",
    "        f.write(en.strip() + ' ' + ch.strip() + '\\n')\n",
    "\n",
    "f.close()"
   ]
  }
 ],
 "metadata": {
  "kernelspec": {
   "display_name": "prml",
   "language": "python",
   "name": "python3"
  },
  "language_info": {
   "codemirror_mode": {
    "name": "ipython",
    "version": 3
   },
   "file_extension": ".py",
   "mimetype": "text/x-python",
   "name": "python",
   "nbconvert_exporter": "python",
   "pygments_lexer": "ipython3",
   "version": "3.7.10"
  }
 },
 "nbformat": 4,
 "nbformat_minor": 2
}
